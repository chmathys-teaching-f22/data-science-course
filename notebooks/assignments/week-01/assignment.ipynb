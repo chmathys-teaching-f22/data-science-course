{
 "cells": [
  {
   "cell_type": "markdown",
   "metadata": {},
   "source": [
    "### Data Science, Week 1\n",
    "\n",
    "# Model comparison and covariance\n",
    "\n",
    "__Goal__: Learning to turn equations into code\n",
    "\n",
    "\n",
    "## Model comparison\n",
    "\n",
    "In your groups, briefly discuss:\n",
    "\n",
    "- What are some methods to do model comparison?\n",
    "- List some pros/cons of each method\n",
    "- What can we do to increase the generalizability of our models?\n",
    "\n",
    "Exercises:\n",
    "- Implement the sum of squares and ridge regression loss functions (Bishop, p. 10)\n",
    "- How do the loss functions behave as the weights _w_ increase or decrease? \n",
    "- Extra: implement the [__lasso__ loss function](https://towardsdatascience.com/l1-and-l2-regularization-methods-ce25e7fc831c) \n"
   ]
  },
  {
   "cell_type": "code",
   "execution_count": 1,
   "metadata": {},
   "outputs": [],
   "source": [
    "# Numpy is the go-to library for anything involving vectors \n",
    "# and matrices in Python\n",
    "import numpy as np"
   ]
  },
  {
   "cell_type": "code",
   "execution_count": 2,
   "metadata": {},
   "outputs": [],
   "source": [
    "# Vector of true values\n",
    "y = np.array([1, 2, 3, 4, 5, 6])\n",
    "\n",
    "# For simplicity, let's assume we just have a vector of predicted values yhat \n",
    "# instead of expression y(x_n, w) in eq. 1.4\n",
    "yhat = np.array([1, 2, 2.8, 3.7, 5.2, 6])"
   ]
  },
  {
   "cell_type": "code",
   "execution_count": 3,
   "metadata": {},
   "outputs": [],
   "source": [
    "# Write a function calculating the sum of squares\n",
    "def ss(y, yhat):\n",
    "    return sum((y - yhat)**2)"
   ]
  },
  {
   "cell_type": "code",
   "execution_count": 4,
   "metadata": {},
   "outputs": [],
   "source": [
    "# Ridge regression loss needs two more parameters, the weights w and \n",
    "# the lambda regularization weight\n",
    "w = np.array([0.5, 1.5]) # Setting two arbitrary weights (betas in a linear regression)\n",
    "lamb = 0.2 # Arbitrary lambda > 0 (NEGATIVE VALUES ARE NOT ALLOWED!)"
   ]
  },
  {
   "cell_type": "code",
   "execution_count": 5,
   "metadata": {},
   "outputs": [],
   "source": [
    "# Implement the ridge regression loss function\n",
    "def ridge(y, yhat, w, lamb):\n",
    "    # Three ways to do the same\n",
    "    return 0.5*(ss(y, yhat) + lamb*ss(w,0))\n",
    "    # return 0.5*(ss(y, yhat) + lamb*sum(w**2))\n",
    "    # return 0.5*(ss(y, yhat) + lamb*sum(w*w))"
   ]
  },
  {
   "cell_type": "code",
   "execution_count": 6,
   "metadata": {},
   "outputs": [
    {
     "name": "stdout",
     "output_type": "stream",
     "text": [
      "sum of squares: 0.17000000000000004\n",
      "ridge: 0.335\n"
     ]
    }
   ],
   "source": [
    "print(f\"sum of squares: {ss(yhat, y)}\")\n",
    "print(f\"ridge: {ridge(yhat, y, w, lamb)}\")"
   ]
  },
  {
   "cell_type": "code",
   "execution_count": 7,
   "metadata": {},
   "outputs": [
    {
     "name": "stdout",
     "output_type": "stream",
     "text": [
      "ridge (w doubled): 1.085\n",
      "ridge (w halved): 0.14750000000000002\n",
      "ridge (lambda doubled): 0.585\n",
      "ridge (lambda halved): 0.21000000000000002\n"
     ]
    }
   ],
   "source": [
    "# What happens to the loss if you make the weights in w larger or smaller?\n",
    "w = 2*w\n",
    "print(f\"ridge (w doubled): {ridge(yhat, y, w, lamb)}\")\n",
    "\n",
    "w = w/4\n",
    "print(f\"ridge (w halved): {ridge(yhat, y, w, lamb)}\")\n",
    "w = 2*w # reset to original value\n",
    "\n",
    "# What happens if you increase or decrease lambda?\n",
    "lamb = 2*lamb\n",
    "print(f\"ridge (lambda doubled): {ridge(yhat, y, w, lamb)}\")\n",
    "\n",
    "lamb = lamb/4\n",
    "print(f\"ridge (lambda halved): {ridge(yhat, y, w, lamb)}\")\n",
    "lamb = 2*lamb # reset to original value"
   ]
  },
  {
   "cell_type": "markdown",
   "metadata": {},
   "source": [
    "## Expectation, Variance, and covariance\n",
    "\n",
    "Briefly discuss:\n",
    "\n",
    "- What is the intuition behind expectation, variance, and covariance? \n",
    "- What properties do they describe; how do the equations line up with your explanations?\n",
    "- What is the difference between covariance and correlation?\n",
    "- How do you interpret a covariance matrix?\n"
   ]
  },
  {
   "cell_type": "markdown",
   "metadata": {},
   "source": [
    "Exercises: \n",
    "\n",
    "- Calculate the expectation of the vector _x_ in the code chunk below\n",
    "- Implement functions for calculating variance and covariance (eq. 1.39 and 1.42)"
   ]
  },
  {
   "cell_type": "code",
   "execution_count": 8,
   "metadata": {},
   "outputs": [
    {
     "name": "stdout",
     "output_type": "stream",
     "text": [
      "[-0.22296133 -0.8088917   0.16412208 -0.47816916  0.43129079  0.9476529\n",
      " -0.23414641 -0.59098412 -1.42949745 -1.40072738]\n"
     ]
    }
   ],
   "source": [
    "# sampling 10 random values from a normal distribution with mean 0 and sd 1\n",
    "x = np.random.randn(10)\n",
    "print(x)\n",
    "\n",
    "# calculate the expectation of x \n",
    "## -> We know that x was sampled from a standard Gaussian. This has expectation 0."
   ]
  },
  {
   "cell_type": "code",
   "execution_count": 9,
   "metadata": {},
   "outputs": [
    {
     "name": "stdout",
     "output_type": "stream",
     "text": [
      "my var: 0.5141129737505766\n",
      "np.var: 0.5141129737505766\n"
     ]
    }
   ],
   "source": [
    "def var(x):\n",
    "    \"Calculate variance following eq. 1.39\"\n",
    "    return np.mean(x**2) - np.mean(x)**2\n",
    "\n",
    "# check if your results match numpy's built in function\n",
    "print(f\"my var: {var(x)}\")\n",
    "print(f\"np.var: {np.var(x)}\")"
   ]
  },
  {
   "cell_type": "code",
   "execution_count": 10,
   "metadata": {},
   "outputs": [
    {
     "name": "stdout",
     "output_type": "stream",
     "text": [
      "my covar: -0.15638134484943925\n",
      "np.cov: -0.15638134484943922\n"
     ]
    }
   ],
   "source": [
    "# sample 10 more random variables\n",
    "y = np.random.randn(10)\n",
    "\n",
    "def covar(x, y):\n",
    "     \"Calculate covariance following eq. 1.42\"\n",
    "     return np.mean(x*y.T) - np.mean(x)*np.mean(y.T)\n",
    "\n",
    "# check if result match numpy\n",
    "print(f\"my covar: {covar(x, y)}\")\n",
    "# np.cov calculates the entire covariance matrix; [0][1] extracts the \n",
    "# covariance of the variables\n",
    "print(f\"np.cov: {np.cov(x, y, ddof=0)[0][1]}\") \n",
    "# What does ddof=0 mean?\n",
    "## -> Explained at https://numpy.org/doc/stable/reference/generated/numpy.cov.html"
   ]
  },
  {
   "cell_type": "code",
   "execution_count": 11,
   "metadata": {},
   "outputs": [
    {
     "data": {
      "text/plain": [
       "array([[ 0.51411297, -0.15638134],\n",
       "       [-0.15638134,  2.23681511]])"
      ]
     },
     "execution_count": 11,
     "metadata": {},
     "output_type": "execute_result"
    }
   ],
   "source": [
    "# How do you interpret the covariance matrix? What does the diagonal describe?\n",
    "## -> The diagonal contains the *variances* of the individual vectors (here x and y)\n",
    "## -> The off-diagonal elements are symmetric and describe how a pair of different vectors covaries\n",
    "np.cov(x, y, ddof=0)"
   ]
  },
  {
   "cell_type": "markdown",
   "metadata": {},
   "source": [
    "Why do we care about covariance matrices? \n",
    "- Useful for e.g. calculating and understanding normal distributions! Play around with the first interactive figure in [this link](https://distill.pub/2019/visual-exploration-gaussian-processes/)."
   ]
  },
  {
   "cell_type": "markdown",
   "metadata": {},
   "source": [
    "_Extra_: Implement the following two (possibly more intuitive) equations for variance and covariance"
   ]
  },
  {
   "cell_type": "markdown",
   "metadata": {},
   "source": [
    "$$var(x) =\\frac{\\sum_{i=1}^{n}(x_i - \\bar{x})^{2}}{n}$$\n",
    "\n",
    "$$cov(x, y) = \\frac{\\sum_{i=1}^{n}(x_i - \\bar{x})(y_i - \\bar{y})}{n}$$"
   ]
  },
  {
   "cell_type": "markdown",
   "metadata": {},
   "source": [
    "Done already? Take a stab at some probability theory exercises from [here](https://www.math.kth.se/matstat/gru/sf1901/TCOMK/exercises.pdf)."
   ]
  }
 ],
 "metadata": {
  "interpreter": {
   "hash": "0013076b557358abeab5cc4084611322cee179c3272f538cd180165972bc5dbc"
  },
  "kernelspec": {
   "display_name": "Python 3 (ipykernel)",
   "language": "python",
   "name": "python3"
  },
  "language_info": {
   "codemirror_mode": {
    "name": "ipython",
    "version": 3
   },
   "file_extension": ".py",
   "mimetype": "text/x-python",
   "name": "python",
   "nbconvert_exporter": "python",
   "pygments_lexer": "ipython3",
   "version": "3.9.10"
  }
 },
 "nbformat": 4,
 "nbformat_minor": 4
}
